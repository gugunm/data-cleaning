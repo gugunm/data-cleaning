{
 "cells": [
  {
   "cell_type": "code",
   "execution_count": 4,
   "metadata": {},
   "outputs": [
    {
     "name": "stdout",
     "output_type": "stream",
     "text": [
      "   Country   Age   Salary Purchased\n",
      "0   France  44.0  72000.0        No\n",
      "1    Spain  27.0  48000.0       Yes\n",
      "2  Germany  30.0  54000.0        No\n",
      "3    Spain  38.0  61000.0        No\n",
      "4  Germany  40.0      NaN       Yes\n",
      "5   France  35.0  58000.0       Yes\n",
      "6    Spain   NaN  52000.0        No\n",
      "7   France  48.0  79000.0       Yes\n",
      "8  Germany  50.0  83000.0        No\n",
      "9   France  37.0  67000.0       Yes\n"
     ]
    },
    {
     "data": {
      "image/png": "[encoded data removed]",
      "text/plain": [
       "<Figure size 432x288 with 1 Axes>"
      ]
     },
     "metadata": {},
     "output_type": "display_data"
    }
   ],
   "source": [
    "# === Require Scipy ===\n",
    "# from datacleaner import autoclean\n",
    "from sklearn.preprocessing import Imputer\n",
    "from mpl_toolkits.mplot3d import axes3d\n",
    "import matplotlib.pyplot as plt\n",
    "import pandas as pd\n",
    "import numpy as np\n",
    "\n",
    "# === Import data csv dengan pandas ===\n",
    "df = pd.read_csv('Data.csv')\n",
    "print (df)\n",
    "\n",
    "# === Cara cek cell yang kosong True = Kosong ===\n",
    "# df.isnull()\n",
    "\n",
    "\n",
    "# === Cara replace nilai kosong dengan kata 'NONE' ===\n",
    "# df = df.astype(object).where(pd.notnull(df),None)\n",
    "# df\n",
    "\n",
    "# === Ini cara mudah clening data :v ===\n",
    "# p = autoclean(df)\n",
    "# print (p)\n",
    "\n",
    "# separate array into input and output components\n",
    "array = df.values\n",
    "# print(array)\n",
    "inputan = df.iloc[:,:-1].values\n",
    "\n",
    "# === Ganti dengan mean ===\n",
    "imputer=Imputer(missing_values='NaN',strategy='median',axis=0)\n",
    "imputer=imputer.fit(inputan[:, 1:3])\n",
    "inputan[:, 1:3]=imputer.transform(inputan[:, 1:3])\n",
    "# print(inputan)\n",
    "\n",
    "# === pindahin data ke array ===\n",
    "for j in range(len(array)):\n",
    "    array[j,1] = inputan[j,1]\n",
    "    array[j,2] = inputan[j,2]\n",
    "\n",
    "# === gabungin semuanya ke 1 array ===\n",
    "join = array[:,:]\n",
    "# print(join)\n",
    "\n",
    "Y = join[:,1]\n",
    "Z = join[:,2]\n",
    "\n",
    "x1k0=[]\n",
    "x2k0=[]\n",
    "x1k1=[]\n",
    "x2k1=[]\n",
    "\n",
    "for i in range(len(join)):\n",
    "    if join[i,-1] == 'No':\n",
    "        x1k0.append(join[i,1])\n",
    "        x2k0.append(join[i,2])\n",
    "    elif join[i,-1] == 'Yes':\n",
    "        x1k1.append(join[i,1])\n",
    "        x2k1.append(join[i,2])\n",
    "\n",
    "plt.scatter(x1k0,x2k0, label='No', c='r')\n",
    "plt.scatter(x1k1,x2k1, label='Yes', c='g')\n",
    "\n",
    "\n",
    "plt.xlabel('Ages')\n",
    "plt.ylabel('Salary')\n",
    "plt.title('Persebaran Dataset')\n",
    "# plt.axis([0, 50, 0, 10000])\n",
    "plt.show()"
   ]
  },
  {
   "cell_type": "code",
   "execution_count": null,
   "metadata": {},
   "outputs": [],
   "source": []
  }
 ],
 "metadata": {
  "kernelspec": {
   "display_name": "Python 3",
   "language": "python",
   "name": "python3"
  },
  "language_info": {
   "codemirror_mode": {
    "name": "ipython",
    "version": 3
   },
   "file_extension": ".py",
   "mimetype": "text/x-python",
   "name": "python",
   "nbconvert_exporter": "python",
   "pygments_lexer": "ipython3",
   "version": "3.5.2"
  }
 },
 "nbformat": 4,
 "nbformat_minor": 2
}
